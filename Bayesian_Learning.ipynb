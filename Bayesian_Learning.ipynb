{
  "nbformat": 4,
  "nbformat_minor": 0,
  "metadata": {
    "colab": {
      "provenance": []
    },
    "kernelspec": {
      "name": "python3",
      "display_name": "Python 3"
    },
    "language_info": {
      "name": "python"
    }
  },
  "cells": [
    {
      "cell_type": "code",
      "execution_count": null,
      "metadata": {
        "id": "ZXbr76fA4PkP"
      },
      "outputs": [],
      "source": [
        "from sklearn.datasets import load_iris \n",
        "from sklearn.model_selection import train_test_split \n",
        "from sklearn.metrics import accuracy_score \n",
        "import numpy as np \n",
        "import pandas as pd \n",
        "import heapq \n",
        "from collections import Counter "
      ]
    },
    {
      "cell_type": "code",
      "source": [
        "dataset = load_iris()\n",
        "X, y = dataset['data'].astype(np.str0), dataset['target']\n",
        "X_train, X_test, y_train, y_test = train_test_split(X, y, shuffle=True, test_size=0.1)"
      ],
      "metadata": {
        "id": "FulAqTJJ4mcx"
      },
      "execution_count": null,
      "outputs": []
    },
    {
      "cell_type": "markdown",
      "source": [
        "# **Bayesian Learning**"
      ],
      "metadata": {
        "id": "v3MdunoaoS4l"
      }
    },
    {
      "cell_type": "code",
      "source": [
        "# X = [['Red', 'Sports', 'Domestic'],\n",
        "#      ['Red', 'Sports', 'Domestic'],\n",
        "#      ['Red', 'Sports', 'Domestic'],\n",
        "#      ['Yellow', 'Sports', 'Domestic'],\n",
        "#      ['Yellow', 'Sports', 'Imported'],\n",
        "#      ['Yellow', 'SUV', 'Imported'],\n",
        "#      ['Yellow', 'SUV', 'Imported'],\n",
        "#      ['Yellow', 'SUV', 'Domestic'],\n",
        "#      ['Red', 'SUV', 'Imported'],\n",
        "#      ['Red', 'Sports', 'Imported']]\n",
        "# y = ['Yes',\n",
        "#      'No',\n",
        "#      'Yes',\n",
        "#      'No',\n",
        "#      'Yes',\n",
        "#      'No',\n",
        "#      'Yes',\n",
        "#      'No',\n",
        "#      'No',\n",
        "#      'Yes']\n",
        "# sample = ['Red', 'SUV', 'Domestic']\n",
        "# X, y = np.array(X), np.array(y)"
      ],
      "metadata": {
        "id": "T6gq5z-TF1Et"
      },
      "execution_count": null,
      "outputs": []
    },
    {
      "cell_type": "code",
      "source": [
        "# X = [['Rainy',\t'Hot',\t'High',\t'False'],\n",
        "#      ['Rainy',\t'Hot', 'High',\t'True'],\n",
        "#      ['Overcast',\t'Hot',\t'High',\t'False'],\n",
        "#      ['Sunny',\t'Mild',\t'High',\t'False'],\n",
        "#      ['Sunny',\t'Cool',\t'Normal',\t'False'],\n",
        "#      ['Sunny',\t'Cool',\t'Normal',\t'True'],\n",
        "#      ['Overcast',\t'Cool',\t'Normal',\t'True'],\n",
        "#      ['Rainy',\t'Mild',\t'High',\t'False'],\n",
        "#      ['Rainy',\t'Cool',\t'Normal',\t'False'],\n",
        "#      ['Sunny',\t'Mild',\t'Normal',\t'False'],\n",
        "#      ['Rainy',\t'Mild',\t'Normal',\t'True'],\n",
        "#      ['Overcast',\t'Mild',\t'High',\t'True'],\n",
        "#      ['Overcast',\t'Hot',\t'Normal',\t'False'],\n",
        "#      ['Sunny',\t'Mild',\t'High',\t'True']]\n",
        "# y = ['No', 'No', 'Yes', 'Yes', 'Yes', 'No', 'Yes', 'No', 'Yes', 'Yes', 'Yes', 'Yes', 'Yes', 'No']\n",
        "# sample = ['Sunny', 'Hot', 'Normal', 'False']\n",
        "# X, y = np.array(X), np.array(y)"
      ],
      "metadata": {
        "id": "s37fxo-gc1Qc"
      },
      "execution_count": null,
      "outputs": []
    },
    {
      "cell_type": "code",
      "source": [
        "def dataset_dist(X, y):\n",
        "  X_dist = dict()\n",
        "  y_dist = dict()\n",
        "  for y_unique in np.unique(y):\n",
        "    idx = np.where(y==y_unique)[0]\n",
        "    X_slice = X[idx]\n",
        "    y_slice = y[idx]\n",
        "    y_dist[y_unique] = len(y_slice) / len(y)\n",
        "    column_values_dist = list()\n",
        "    for column_idx in range(X_slice.shape[1]):\n",
        "      X_column = pd.Series(data=X_slice[:, column_idx]).value_counts()\n",
        "      X_column /= len(y_slice)\n",
        "      X_column = dict(X_column)\n",
        "      column_values_dist.append(X_column)\n",
        "    X_dist[y_unique] = column_values_dist \n",
        "  return X_dist, y_dist"
      ],
      "metadata": {
        "id": "Km4KGrrqFt_F"
      },
      "execution_count": null,
      "outputs": []
    },
    {
      "cell_type": "code",
      "source": [
        "X_dist, y_dist = dataset_dist(X_train, y_train)"
      ],
      "metadata": {
        "id": "GmzAuvQijOiS"
      },
      "execution_count": null,
      "outputs": []
    },
    {
      "cell_type": "code",
      "source": [
        "pred = list()\n",
        "\n",
        "for sample in X_test:\n",
        "  probs = dict()\n",
        "  for label in X_dist.keys():\n",
        "    prob = 1 \n",
        "    for attribute_idx in range(len(sample)):\n",
        "      attribute = sample[attribute_idx]\n",
        "      attribute_slice = X_dist[label][attribute_idx]\n",
        "      if attribute in list(attribute_slice.keys()):\n",
        "        prob *= attribute_slice[attribute]\n",
        "      else: # Laplace smoothing \n",
        "        n = len(np.where(y_train==label)[0]) \n",
        "        nc = 0 \n",
        "        m = np.unique(y_train).shape[0] # number of virtual examples \n",
        "        p = 1 # prior estimate \n",
        "        prob *= ((nc + (m * p)) / (n + m)) \n",
        "    prob *= y_dist[label] \n",
        "    probs[label] = prob \n",
        "\n",
        "  prob_values = list(probs.values())\n",
        "  max_prob = np.argmax(prob_values)\n",
        "  labels = list(probs.keys())\n",
        "  pred.append(labels[max_prob])\n",
        "  # print(f'Class: {labels[max_prob]} - Prob: {prob_values[max_prob]}')"
      ],
      "metadata": {
        "id": "-e8XifyFWeHz"
      },
      "execution_count": null,
      "outputs": []
    },
    {
      "cell_type": "code",
      "source": [
        "accuracy_score(y_test, pred)"
      ],
      "metadata": {
        "colab": {
          "base_uri": "https://localhost:8080/"
        },
        "id": "esSXv4Y_kdz_",
        "outputId": "eca0c206-b649-4688-b81c-728473cfcf6a"
      },
      "execution_count": null,
      "outputs": [
        {
          "output_type": "execute_result",
          "data": {
            "text/plain": [
              "0.8"
            ]
          },
          "metadata": {},
          "execution_count": 41
        }
      ]
    },
    {
      "cell_type": "markdown",
      "source": [
        "# **Gaussian Naive Bayes**"
      ],
      "metadata": {
        "id": "FY_sCbX1nFQE"
      }
    },
    {
      "cell_type": "code",
      "source": [
        "pred = list()\n",
        "\n",
        "for sample in X_test:\n",
        "  probs = dict()\n",
        "  for label in X_dist.keys():\n",
        "    prob = 1 \n",
        "    label_idx = np.where(y_train==label)[0]\n",
        "    X_slice = X_train[label_idx].astype(np.float16)\n",
        "    for attribute_idx in range(len(sample)):\n",
        "      attribute_var = np.var(X_slice[:, attribute_idx])\n",
        "      attribute_mean = np.mean(X_slice[:, attribute_idx])\n",
        "      attribute = sample[attribute_idx].astype(np.float16)\n",
        "      prob_value = (1 / np.sqrt(2 * np.pi * attribute_var)) * np.exp(-(((attribute - attribute_mean) ** 2) / (2 * attribute_var)))\n",
        "      prob *= prob_value \n",
        "    prob *= y_dist[label] \n",
        "    probs[label] = prob \n",
        "\n",
        "  prob_values = list(probs.values())\n",
        "  max_prob = np.argmax(prob_values)\n",
        "  labels = list(probs.keys())\n",
        "  pred.append(labels[max_prob])"
      ],
      "metadata": {
        "id": "5gHYnFOlnMo6"
      },
      "execution_count": null,
      "outputs": []
    },
    {
      "cell_type": "code",
      "source": [
        "accuracy_score(y_test, pred)"
      ],
      "metadata": {
        "colab": {
          "base_uri": "https://localhost:8080/"
        },
        "id": "zBAcNBcZxbfM",
        "outputId": "ffe3dc64-d2dc-4545-ef4f-a62bf900b86e"
      },
      "execution_count": null,
      "outputs": [
        {
          "output_type": "execute_result",
          "data": {
            "text/plain": [
              "1.0"
            ]
          },
          "metadata": {},
          "execution_count": 43
        }
      ]
    }
  ]
}